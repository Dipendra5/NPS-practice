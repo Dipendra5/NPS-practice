{
 "cells": [
  {
   "cell_type": "code",
   "execution_count": 1,
   "metadata": {},
   "outputs": [],
   "source": [
    "import numpy as np"
   ]
  },
  {
   "cell_type": "code",
   "execution_count": 4,
   "metadata": {},
   "outputs": [],
   "source": [
    "X = np.arange(0,2*np.pi,0.1)"
   ]
  },
  {
   "cell_type": "code",
   "execution_count": 6,
   "metadata": {},
   "outputs": [],
   "source": [
    "#print(X)"
   ]
  },
  {
   "cell_type": "code",
   "execution_count": 8,
   "metadata": {},
   "outputs": [],
   "source": [
    "D = {\"sine\":[np.sin(x) for x in X],\\\n",
    "     \"cosine\":[np.cos(x) for x in X],\\\n",
    "     \"sqrt\":[1/(x**2+1) for x in X],\\\n",
    "     \"expt\":[1/((np.exp(x**3)+5)) for x in X]}"
   ]
  },
  {
   "cell_type": "code",
   "execution_count": 10,
   "metadata": {},
   "outputs": [],
   "source": [
    "#print(D)"
   ]
  },
  {
   "cell_type": "code",
   "execution_count": 11,
   "metadata": {},
   "outputs": [],
   "source": [
    "import pandas as pd"
   ]
  },
  {
   "cell_type": "code",
   "execution_count": 17,
   "metadata": {},
   "outputs": [
    {
     "data": {
      "text/html": [
       "<div>\n",
       "<style scoped>\n",
       "    .dataframe tbody tr th:only-of-type {\n",
       "        vertical-align: middle;\n",
       "    }\n",
       "\n",
       "    .dataframe tbody tr th {\n",
       "        vertical-align: top;\n",
       "    }\n",
       "\n",
       "    .dataframe thead th {\n",
       "        text-align: right;\n",
       "    }\n",
       "</style>\n",
       "<table border=\"1\" class=\"dataframe\">\n",
       "  <thead>\n",
       "    <tr style=\"text-align: right;\">\n",
       "      <th></th>\n",
       "      <th>sine</th>\n",
       "      <th>cosine</th>\n",
       "      <th>sqrt</th>\n",
       "      <th>expt</th>\n",
       "    </tr>\n",
       "  </thead>\n",
       "  <tbody>\n",
       "    <tr>\n",
       "      <th>0</th>\n",
       "      <td>0.000000</td>\n",
       "      <td>1.000000</td>\n",
       "      <td>1.000000</td>\n",
       "      <td>1.666667e-01</td>\n",
       "    </tr>\n",
       "    <tr>\n",
       "      <th>1</th>\n",
       "      <td>0.099833</td>\n",
       "      <td>0.995004</td>\n",
       "      <td>0.990099</td>\n",
       "      <td>1.666389e-01</td>\n",
       "    </tr>\n",
       "    <tr>\n",
       "      <th>2</th>\n",
       "      <td>0.198669</td>\n",
       "      <td>0.980067</td>\n",
       "      <td>0.961538</td>\n",
       "      <td>1.664439e-01</td>\n",
       "    </tr>\n",
       "    <tr>\n",
       "      <th>3</th>\n",
       "      <td>0.295520</td>\n",
       "      <td>0.955336</td>\n",
       "      <td>0.917431</td>\n",
       "      <td>1.659099e-01</td>\n",
       "    </tr>\n",
       "    <tr>\n",
       "      <th>4</th>\n",
       "      <td>0.389418</td>\n",
       "      <td>0.921061</td>\n",
       "      <td>0.862069</td>\n",
       "      <td>1.648508e-01</td>\n",
       "    </tr>\n",
       "    <tr>\n",
       "      <th>...</th>\n",
       "      <td>...</td>\n",
       "      <td>...</td>\n",
       "      <td>...</td>\n",
       "      <td>...</td>\n",
       "    </tr>\n",
       "    <tr>\n",
       "      <th>58</th>\n",
       "      <td>-0.464602</td>\n",
       "      <td>0.885520</td>\n",
       "      <td>0.028868</td>\n",
       "      <td>1.836264e-85</td>\n",
       "    </tr>\n",
       "    <tr>\n",
       "      <th>59</th>\n",
       "      <td>-0.373877</td>\n",
       "      <td>0.927478</td>\n",
       "      <td>0.027925</td>\n",
       "      <td>6.383129e-90</td>\n",
       "    </tr>\n",
       "    <tr>\n",
       "      <th>60</th>\n",
       "      <td>-0.279415</td>\n",
       "      <td>0.960170</td>\n",
       "      <td>0.027027</td>\n",
       "      <td>1.557370e-94</td>\n",
       "    </tr>\n",
       "    <tr>\n",
       "      <th>61</th>\n",
       "      <td>-0.182163</td>\n",
       "      <td>0.983268</td>\n",
       "      <td>0.026171</td>\n",
       "      <td>2.650966e-99</td>\n",
       "    </tr>\n",
       "    <tr>\n",
       "      <th>62</th>\n",
       "      <td>-0.083089</td>\n",
       "      <td>0.996542</td>\n",
       "      <td>0.025355</td>\n",
       "      <td>3.129426e-104</td>\n",
       "    </tr>\n",
       "  </tbody>\n",
       "</table>\n",
       "<p>63 rows × 4 columns</p>\n",
       "</div>"
      ],
      "text/plain": [
       "        sine    cosine      sqrt           expt\n",
       "0   0.000000  1.000000  1.000000   1.666667e-01\n",
       "1   0.099833  0.995004  0.990099   1.666389e-01\n",
       "2   0.198669  0.980067  0.961538   1.664439e-01\n",
       "3   0.295520  0.955336  0.917431   1.659099e-01\n",
       "4   0.389418  0.921061  0.862069   1.648508e-01\n",
       "..       ...       ...       ...            ...\n",
       "58 -0.464602  0.885520  0.028868   1.836264e-85\n",
       "59 -0.373877  0.927478  0.027925   6.383129e-90\n",
       "60 -0.279415  0.960170  0.027027   1.557370e-94\n",
       "61 -0.182163  0.983268  0.026171   2.650966e-99\n",
       "62 -0.083089  0.996542  0.025355  3.129426e-104\n",
       "\n",
       "[63 rows x 4 columns]"
      ]
     },
     "execution_count": 17,
     "metadata": {},
     "output_type": "execute_result"
    }
   ],
   "source": [
    "DF = pd.DataFrame(D)\n",
    "DF"
   ]
  },
  {
   "cell_type": "code",
   "execution_count": 18,
   "metadata": {},
   "outputs": [],
   "source": [
    "%matplotlib inline"
   ]
  },
  {
   "cell_type": "code",
   "execution_count": 19,
   "metadata": {},
   "outputs": [
    {
     "data": {
      "text/plain": [
       "<matplotlib.axes._subplots.AxesSubplot at 0x89e1f08>"
      ]
     },
     "execution_count": 19,
     "metadata": {},
     "output_type": "execute_result"
    },
    {
     "data": {
      "image/png": "[encoded data removed]",
      "text/plain": [
       "<Figure size 432x288 with 1 Axes>"
      ]
     },
     "metadata": {
      "needs_background": "light"
     },
     "output_type": "display_data"
    }
   ],
   "source": [
    "DF.plot()"
   ]
  },
  {
   "cell_type": "code",
   "execution_count": 24,
   "metadata": {},
   "outputs": [],
   "source": [
    "DF.to_csv(\"functiondata.csv\")"
   ]
  },
  {
   "cell_type": "code",
   "execution_count": null,
   "metadata": {},
   "outputs": [],
   "source": []
  }
 ],
 "metadata": {
  "kernelspec": {
   "display_name": "Python 3",
   "language": "python",
   "name": "python3"
  },
  "language_info": {
   "codemirror_mode": {
    "name": "ipython",
    "version": 3
   },
   "file_extension": ".py",
   "mimetype": "text/x-python",
   "name": "python",
   "nbconvert_exporter": "python",
   "pygments_lexer": "ipython3",
   "version": "3.7.6"
  }
 },
 "nbformat": 4,
 "nbformat_minor": 4
}
