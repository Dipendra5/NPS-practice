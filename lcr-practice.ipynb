{
 "cells": [
  {
   "cell_type": "code",
   "execution_count": 1,
   "metadata": {},
   "outputs": [],
   "source": [
    "import matplotlib.pyplot as plt\n",
    "import numpy as np"
   ]
  },
  {
   "cell_type": "code",
   "execution_count": 16,
   "metadata": {},
   "outputs": [
    {
     "name": "stdout",
     "output_type": "stream",
     "text": [
      "# To plot a Graph between currnet and Frequency in an LCR series Ckt.\n",
      "\n",
      "# To find the resonant frequency of the seires CKt\n",
      "\n",
      "# 01-August 2020\n",
      "\n",
      "# S.N. Resistance (R1, Ohm) Frequency (kHz) Current (mA) Resistance (R2, Ohm) Frequency (kHz) Current (mA)\n",
      "\n",
      "#\n",
      "\n",
      "#\n",
      "\n",
      "1 47 0.638 2 100 0.6151 2\n",
      "\n",
      "2 47 1.347 6 100 1.325 6\n",
      "\n",
      "3 47 1.783 10 100 1.786 10\n",
      "\n",
      "4 47 2.081 14 100 2.160 14\n",
      "\n",
      "5 47 2.299 18 100 2.304 16\n",
      "\n",
      "6 47 2.494 22 100 2.450 18\n",
      "\n",
      "7 47 2.682 26 100 2.615 20\n",
      "\n",
      "8 47 2.903 28 100 2.910 22\n",
      "\n",
      "9 47 3.129 26 100 3.267 20\n",
      "\n",
      "10 47 3.411 22 100 3.483 18\n",
      "\n",
      "11 47 3.712 18 100 3.712 16\n",
      "\n",
      "12 47 4.155 14 100 3.991 14\n",
      "\n",
      "13 47 5.016 10 100 4.843 10 \n",
      "\n",
      "14 47 6.747 6 100 6.731 6\n",
      "\n",
      "15 47 14.51 2 100 15.50 2\n"
     ]
    }
   ],
   "source": [
    "with open(\"exptdata.text\",'r') as D:\n",
    "    F1 = []\n",
    "    I1 = []\n",
    "    F2 = []\n",
    "    I2 = []\n",
    "    for line in D:\n",
    "        print(line)\n",
    "        \n",
    "        \n",
    "        \n",
    "    "
   ]
  }
 ],
 "metadata": {
  "kernelspec": {
   "display_name": "Python 3",
   "language": "python",
   "name": "python3"
  },
  "language_info": {
   "codemirror_mode": {
    "name": "ipython",
    "version": 3
   },
   "file_extension": ".py",
   "mimetype": "text/x-python",
   "name": "python",
   "nbconvert_exporter": "python",
   "pygments_lexer": "ipython3",
   "version": "3.7.6"
  }
 },
 "nbformat": 4,
 "nbformat_minor": 4
}
